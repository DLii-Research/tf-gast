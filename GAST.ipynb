{
 "cells": [
  {
   "cell_type": "markdown",
   "id": "b93464dc-d77a-4ce1-9d95-4271be5950a2",
   "metadata": {},
   "source": [
    "# Generative Adversarial Set Transformers\n",
    "\n",
    "The following notebook provides a basic implementation of the GAST framework from the paper: *[Generative Adversarial Set Transformers](https://www.ml.informatik.tu-darmstadt.de/papers/stelzner2020ood_gast.pdf)*.\n",
    "\n",
    "\n",
    "## Conversion Checklist\n",
    "\n",
    "- [X] Use hinge-loss as described in the paper\n",
    "- [X] Randomly sample the initial set\n",
    "- [ ] Varying Set Cardinalities"
   ]
  },
  {
   "cell_type": "code",
   "execution_count": 1,
   "id": "f2b2f56c-3197-4adb-a0ee-8248ec31b43c",
   "metadata": {},
   "outputs": [],
   "source": [
    "import matplotlib.pyplot as plt\n",
    "import numpy as np\n",
    "import tensorflow as tf\n",
    "import tensorflow.keras as keras\n",
    "import tensorflow_addons as tfa\n",
    "import time\n",
    "\n",
    "from IPython import display\n",
    "\n",
    "import dl_utils.tf as tf_utils\n",
    "import settransformer as sf\n",
    "\n",
    "import common"
   ]
  },
  {
   "cell_type": "markdown",
   "id": "3f820c5e-0b90-4314-baa1-0c57ff936957",
   "metadata": {},
   "source": [
    "## Configuration"
   ]
  },
  {
   "cell_type": "code",
   "execution_count": 2,
   "id": "c0739d61-c54d-47c6-ad44-117ef95d3136",
   "metadata": {},
   "outputs": [],
   "source": [
    "strategy = tf_utils.strategy(\"gpu:0\")\n",
    "# strategy = tf_utils.strategy(multi_gpu=True)"
   ]
  },
  {
   "cell_type": "code",
   "execution_count": 3,
   "id": "bea5f7d1-42be-4fbb-8cff-fb195cfd254a",
   "metadata": {},
   "outputs": [
    {
     "data": {
      "text/plain": [
       "False"
      ]
     },
     "execution_count": 3,
     "metadata": {},
     "output_type": "execute_result"
    }
   ],
   "source": [
    "# Use the original implementation of multihead attention\n",
    "# from the official Pytorch implementation of set transformer\n",
    "sf.config(\"use_keras_mha\", False)"
   ]
  },
  {
   "cell_type": "markdown",
   "id": "1b764d8f-0bd9-4721-bef2-cce5fe9fc058",
   "metadata": {},
   "source": [
    "## MNIST Dataset\n",
    "\n",
    "Load the MNIST pointcloud dataset and set up the Tensorflow dataset."
   ]
  },
  {
   "cell_type": "code",
   "execution_count": 4,
   "id": "89db5a3d-0481-4f01-a014-b985bc9ea41c",
   "metadata": {},
   "outputs": [],
   "source": [
    "# Point Clouds\n",
    "# with np.load(\"./datasets/mnist_point_cloud_train_500.npz\") as f:\n",
    "#     x_train = f[list(f.keys())[0]]\n",
    "# x_train = (x_train - np.mean(x_train)) / np.std(x_train)"
   ]
  },
  {
   "cell_type": "code",
   "execution_count": 7,
   "id": "29302239-226e-4bd6-b2b2-4ef2c494f74e",
   "metadata": {},
   "outputs": [],
   "source": [
    "window = (-3, 3) # preview viewport range\n",
    "# BUFFER_SIZE = len(x_train)\n",
    "BATCH_SIZE_PER_REPLICA = 32\n",
    "GLOBAL_BATCH_SIZE = BATCH_SIZE_PER_REPLICA * strategy.num_replicas_in_sync"
   ]
  },
  {
   "cell_type": "code",
   "execution_count": 11,
   "id": "5b51b5cc-e664-4d1b-ae19-9b362d88dd5f",
   "metadata": {},
   "outputs": [],
   "source": [
    "NUM_POINTS = 500\n",
    "BUFFER_SIZE = 5\n",
    "\n",
    "mnist_data_generator = common.MultiprocessMnistGenerator(\n",
    "    batch_size=GLOBAL_BATCH_SIZE,\n",
    "    num_points=NUM_POINTS,\n",
    "    buffer_size=BUFFER_SIZE,\n",
    "    num_workers=1,\n",
    "    threshold=50)\n",
    "\n",
    "train_dataset = tf.data.Dataset.from_generator(\n",
    "    mnist_data_generator.generator,\n",
    "    output_types=(tf.float32, tf.int32),\n",
    "    output_shapes=(\n",
    "        tf.TensorShape([GLOBAL_BATCH_SIZE, NUM_POINTS, 2]),\n",
    "        tf.TensorShape([GLOBAL_BATCH_SIZE,])))"
   ]
  },
  {
   "cell_type": "code",
   "execution_count": 12,
   "id": "bb20d53a-6871-4344-aa08-5d93c1944641",
   "metadata": {},
   "outputs": [],
   "source": [
    "# train_dataset = tf.data.Dataset.from_tensor_slices(x_train).shuffle(BUFFER_SIZE).batch(GLOBAL_BATCH_SIZE)\n",
    "train_dist_dataset = strategy.experimental_distribute_dataset(train_dataset)"
   ]
  },
  {
   "cell_type": "code",
   "execution_count": 14,
   "id": "abd1030b-4fef-4ff8-ae62-ceaa41e98b80",
   "metadata": {},
   "outputs": [],
   "source": [
    "mnist_data_generator.start()"
   ]
  },
  {
   "cell_type": "code",
   "execution_count": 27,
   "id": "15a12a1e-ff09-45da-8cfd-1b6113726bb6",
   "metadata": {},
   "outputs": [
    {
     "data": {
      "image/png": "[encoded data removed]",
      "text/plain": [
       "<Figure size 432x288 with 1 Axes>"
      ]
     },
     "metadata": {
      "needs_background": "light"
     },
     "output_type": "display_data"
    }
   ],
   "source": [
    "x_train = next(iter(train_dist_dataset))[0][0]\n",
    "plt.scatter(*x_train.numpy().T)\n",
    "plt.xlim(window)\n",
    "plt.ylim(window)\n",
    "plt.show()"
   ]
  },
  {
   "cell_type": "markdown",
   "id": "283750b9-ae58-4d36-a4b4-cbc56e6c89db",
   "metadata": {},
   "source": [
    "## Layer Implementations\n",
    "\n",
    "The following cells provide the layer implementations required for the GAST framework. The ISE layer specified in the paper has been implemented into the *set transformers* implementation as noted in the repository dependencies."
   ]
  },
  {
   "cell_type": "code",
   "execution_count": 53,
   "id": "1099a94c-3244-4bcc-aa2e-0bb04dc5409d",
   "metadata": {},
   "outputs": [],
   "source": [
    "class ConditionedISAB(keras.layers.Layer):\n",
    "    def __init__(self, embed_dim, dim_cond, num_heads, num_anchors):\n",
    "        super(ConditionedISAB, self).__init__()\n",
    "        self.embed_dim = embed_dim\n",
    "        self.num_anchors = num_anchors\n",
    "        self.mab1 = sf.MAB(embed_dim, num_heads)\n",
    "        self.mab2 = sf.MAB(embed_dim, num_heads)\n",
    "        self.anchor_predict = keras.models.Sequential([\n",
    "            keras.layers.Dense(\n",
    "                num_anchors*embed_dim,\n",
    "                input_shape=(dim_cond,),\n",
    "                activation=\"gelu\"),\n",
    "            tfa.layers.SpectralNormalization(\n",
    "                keras.layers.Dense(num_anchors*embed_dim)),\n",
    "            keras.layers.Reshape((num_anchors, embed_dim))\n",
    "        ])\n",
    "        \n",
    "    def call(self, inp):\n",
    "        inducing_points = self.anchor_predict(inp[1])\n",
    "        h = self.mab1(inducing_points, inp[0])\n",
    "        return self.mab2(inp[0], h)"
   ]
  },
  {
   "cell_type": "code",
   "execution_count": 54,
   "id": "f696bf97-9a6b-4951-a619-c94e798a1acc",
   "metadata": {},
   "outputs": [],
   "source": [
    "class SampleSet(keras.layers.Layer):\n",
    "    def __init__(self, max_set_size, embed_dim):\n",
    "        super(SampleSet, self).__init__()\n",
    "        self.max_set_size = max_set_size\n",
    "        self.embed_dim = embed_dim\n",
    "        \n",
    "    def build(self, input_shape):\n",
    "        self.mu = self.add_weight(\n",
    "            shape=(self.max_set_size, self.embed_dim),\n",
    "            initializer=\"random_normal\",\n",
    "            trainable=True,\n",
    "            name=\"mu\")\n",
    "        self.sigma = self.add_weight(\n",
    "            shape=(self.max_set_size, self.embed_dim),\n",
    "            initializer=\"random_normal\",\n",
    "            trainable=True,\n",
    "            name=\"sigma\")\n",
    "        \n",
    "    def call(self, n):\n",
    "        batch_size = tf.shape(n)[0]\n",
    "#         n = tf.squeeze(tf.cast(n[0], dtype=tf.int32)) # all n should be the same, take one\n",
    "        n = self.max_set_size\n",
    "        mean = self.mu\n",
    "        variance = tf.square(self.sigma)\n",
    "        \n",
    "        # Sample a random initial set of max size\n",
    "        initial_set = tf.random.normal((batch_size, self.max_set_size, self.embed_dim), mean, variance)\n",
    "\n",
    "        # Pick random indices without replacement\n",
    "        _, random_indices = tf.nn.top_k(tf.random.uniform(shape=(batch_size, self.max_set_size)), n)        \n",
    "        batch_indices = tf.reshape(tf.repeat(tf.range(batch_size), n), (-1, n))\n",
    "        indices = tf.stack([batch_indices, random_indices], axis=2)\n",
    "        \n",
    "        # Sample the set\n",
    "        sampled_set = tf.gather_nd(initial_set, indices)\n",
    "        \n",
    "        return sampled_set"
   ]
  },
  {
   "cell_type": "markdown",
   "id": "ae7e7124-0efa-4032-9c1d-a123de22bf17",
   "metadata": {},
   "source": [
    "## Model Architecture\n",
    "\n",
    "![Model Architecture](./images/architecture.png)"
   ]
  },
  {
   "cell_type": "code",
   "execution_count": 75,
   "id": "7e5065e5-b63e-4a2a-86d2-2376fd99e1f8",
   "metadata": {},
   "outputs": [],
   "source": [
    "NOISE_DIM = 64\n",
    "EMBED_DIM = 64\n",
    "LATENT_DIM = EMBED_DIM\n",
    "NUM_HEADS = 4\n",
    "NUM_ANCHORS = 24\n",
    "MAX_SET_SIZE = x_train.shape[1]"
   ]
  },
  {
   "cell_type": "markdown",
   "id": "6bd67242-fba7-44c2-bfdf-838ecf7c6e37",
   "metadata": {},
   "source": [
    "### Generator\n",
    "\n",
    "![Generator Transformer](./images/gen_layer.png)"
   ]
  },
  {
   "cell_type": "code",
   "execution_count": 76,
   "id": "f2d7919c-dcdb-4a4f-a73b-1ed31b449727",
   "metadata": {},
   "outputs": [
    {
     "name": "stdout",
     "output_type": "stream",
     "text": [
      "Model: \"model_13\"\n",
      "__________________________________________________________________________________________________\n",
      "Layer (type)                    Output Shape         Param #     Connected to                     \n",
      "==================================================================================================\n",
      "input_14 (InputLayer)           [(None, 64)]         0                                            \n",
      "__________________________________________________________________________________________________\n",
      "sample_set_4 (SampleSet)        (None, 500, 64)      64000       input_14[0][0]                   \n",
      "__________________________________________________________________________________________________\n",
      "conditioned_isab_16 (Conditione (None, 500, 64)      2495488     sample_set_4[0][0]               \n",
      "                                                                 input_14[0][0]                   \n",
      "__________________________________________________________________________________________________\n",
      "add_22 (Add)                    (None, 500, 64)      0           sample_set_4[0][0]               \n",
      "                                                                 conditioned_isab_16[0][0]        \n",
      "__________________________________________________________________________________________________\n",
      "conditioned_isab_17 (Conditione (None, 500, 64)      2495488     add_22[0][0]                     \n",
      "                                                                 input_14[0][0]                   \n",
      "__________________________________________________________________________________________________\n",
      "add_23 (Add)                    (None, 500, 64)      0           add_22[0][0]                     \n",
      "                                                                 conditioned_isab_17[0][0]        \n",
      "__________________________________________________________________________________________________\n",
      "conditioned_isab_18 (Conditione (None, 500, 64)      2495488     add_23[0][0]                     \n",
      "                                                                 input_14[0][0]                   \n",
      "__________________________________________________________________________________________________\n",
      "add_24 (Add)                    (None, 500, 64)      0           add_23[0][0]                     \n",
      "                                                                 conditioned_isab_18[0][0]        \n",
      "__________________________________________________________________________________________________\n",
      "conditioned_isab_19 (Conditione (None, 500, 64)      2495488     add_24[0][0]                     \n",
      "                                                                 input_14[0][0]                   \n",
      "__________________________________________________________________________________________________\n",
      "spectral_normalization_24 (Spec (None, 500, 2)       130         conditioned_isab_19[0][0]        \n",
      "==================================================================================================\n",
      "Total params: 10,046,082\n",
      "Trainable params: 10,039,936\n",
      "Non-trainable params: 6,146\n",
      "__________________________________________________________________________________________________\n"
     ]
    }
   ],
   "source": [
    "with strategy.scope():\n",
    "    y = x = keras.layers.Input((LATENT_DIM,))\n",
    "    y = SampleSet(NUM_POINTS, EMBED_DIM)(y)\n",
    "    y1 = ConditionedISAB(EMBED_DIM, LATENT_DIM, 4, 24)((y, x))\n",
    "    y = keras.layers.Add()((y, y1))\n",
    "    y1 = ConditionedISAB(EMBED_DIM, LATENT_DIM, 4, 24)((y, x))\n",
    "    y = keras.layers.Add()((y, y1))\n",
    "    y1 = ConditionedISAB(EMBED_DIM, LATENT_DIM, 4, 24)((y, x))\n",
    "    y = keras.layers.Add()((y, y1))\n",
    "    y = ConditionedISAB(EMBED_DIM, LATENT_DIM, 4, 24)((y, x))\n",
    "    # y = keras.layers.Add()((y, y1))\n",
    "    y = tfa.layers.SpectralNormalization(keras.layers.Dense(2, use_bias=False))(y)\n",
    "    generator = keras.Model(x, y)\n",
    "    generator.summary()"
   ]
  },
  {
   "cell_type": "markdown",
   "id": "91d6595e-b082-412d-9800-2957ffe59f9d",
   "metadata": {},
   "source": [
    "## Discriminator\n",
    "\n",
    "![Discriminator Transformer](./images/disc_layer.png)"
   ]
  },
  {
   "cell_type": "code",
   "execution_count": 77,
   "id": "f23b146d-3330-40da-af96-82f9aca59b37",
   "metadata": {},
   "outputs": [
    {
     "name": "stdout",
     "output_type": "stream",
     "text": [
      "Model: \"model_14\"\n",
      "__________________________________________________________________________________________________\n",
      "Layer (type)                    Output Shape         Param #     Connected to                     \n",
      "==================================================================================================\n",
      "input_15 (InputLayer)           [(None, 500, 2)]     0                                            \n",
      "__________________________________________________________________________________________________\n",
      "dense_360 (Dense)               (None, 500, 64)      192         input_15[0][0]                   \n",
      "__________________________________________________________________________________________________\n",
      "induced_set_attention_block_10  (None, 500, 64)      35328       dense_360[0][0]                  \n",
      "__________________________________________________________________________________________________\n",
      "add_25 (Add)                    (None, 500, 64)      0           dense_360[0][0]                  \n",
      "                                                                 induced_set_attention_block_10[0]\n",
      "__________________________________________________________________________________________________\n",
      "induced_set_attention_block_11  (None, 500, 64)      35328       add_25[0][0]                     \n",
      "__________________________________________________________________________________________________\n",
      "add_26 (Add)                    (None, 500, 64)      0           add_25[0][0]                     \n",
      "                                                                 induced_set_attention_block_11[0]\n",
      "__________________________________________________________________________________________________\n",
      "induced_set_encoder_15 (Induced (None, 64)           16704       dense_360[0][0]                  \n",
      "__________________________________________________________________________________________________\n",
      "induced_set_encoder_16 (Induced (None, 64)           16704       add_25[0][0]                     \n",
      "__________________________________________________________________________________________________\n",
      "induced_set_encoder_17 (Induced (None, 64)           16704       add_26[0][0]                     \n",
      "__________________________________________________________________________________________________\n",
      "concatenate_5 (Concatenate)     (None, 192)          0           induced_set_encoder_15[0][0]     \n",
      "                                                                 induced_set_encoder_16[0][0]     \n",
      "                                                                 induced_set_encoder_17[0][0]     \n",
      "__________________________________________________________________________________________________\n",
      "dense_389 (Dense)               (None, 64)           12288       concatenate_5[0][0]              \n",
      "__________________________________________________________________________________________________\n",
      "dense_390 (Dense)               (None, 1)            64          dense_389[0][0]                  \n",
      "==================================================================================================\n",
      "Total params: 133,312\n",
      "Trainable params: 133,312\n",
      "Non-trainable params: 0\n",
      "__________________________________________________________________________________________________\n"
     ]
    }
   ],
   "source": [
    "with strategy.scope():\n",
    "    y = x = keras.layers.Input((NUM_POINTS, 2))\n",
    "    y1 = y = keras.layers.Dense(EMBED_DIM)(y)\n",
    "    e0 = sf.ISE(1, LATENT_DIM, 4)(y)\n",
    "\n",
    "    y = sf.ISAB(EMBED_DIM, num_heads=4, num_induce=32)(y)\n",
    "    y1 = y = keras.layers.Add()((y1, y))\n",
    "    e1 = sf.ISE(1, LATENT_DIM, 4)(y)\n",
    "\n",
    "    y = sf.ISAB(EMBED_DIM, num_heads=4, num_induce=32)(y)\n",
    "    y1 = y = keras.layers.Add()((y1, y))\n",
    "    e2 = sf.ISE(1, LATENT_DIM, 4)(y)\n",
    "\n",
    "    y = keras.layers.Concatenate()((e0, e1, e2))\n",
    "\n",
    "    y = keras.layers.Dense(EMBED_DIM, activation=\"gelu\", use_bias=False)(y)\n",
    "    y = keras.layers.Dense(1, use_bias=False)(y)\n",
    "\n",
    "    discriminator = keras.Model(x, y)\n",
    "    discriminator.summary()"
   ]
  },
  {
   "cell_type": "markdown",
   "id": "10f52677-b401-4cff-80c8-46d5b82b4ebb",
   "metadata": {},
   "source": [
    "## Coupled Model"
   ]
  },
  {
   "cell_type": "code",
   "execution_count": 78,
   "id": "239f97bd-fb72-4d32-b36d-b26d433adb66",
   "metadata": {},
   "outputs": [],
   "source": [
    "with strategy.scope():\n",
    "    x = keras.layers.Input(generator.input_shape[1:])\n",
    "    y = generator(x)\n",
    "    y = discriminator(y)\n",
    "    model = keras.Model(x, y)"
   ]
  },
  {
   "cell_type": "markdown",
   "id": "aba31a79-0656-407a-bb1c-63d0b1321b76",
   "metadata": {},
   "source": [
    "## Loss Functions\n",
    "\n",
    "Note: the original paper uses a version of Hinge loss. This implementation utilizes the basic binary crossentropy loss for the generator and discriminator."
   ]
  },
  {
   "cell_type": "code",
   "execution_count": 79,
   "id": "1b5cdbf2-c269-4563-99d0-779dd06c70ee",
   "metadata": {},
   "outputs": [],
   "source": [
    "with strategy.scope():\n",
    "    loss_obj = keras.losses.BinaryCrossentropy(from_logits=True, reduction=tf.keras.losses.Reduction.NONE)"
   ]
  },
  {
   "cell_type": "code",
   "execution_count": 80,
   "id": "c9ea717f-b546-4321-8ed6-b41b420f48e2",
   "metadata": {},
   "outputs": [],
   "source": [
    "def generator_loss(fake_output):\n",
    "    loss = -tf.reduce_mean(fake_output)\n",
    "    return loss / (1.0*GLOBAL_BATCH_SIZE)\n",
    "\n",
    "def discriminator_loss(real_output, fake_output):\n",
    "    real_loss = tf.reduce_mean(tf.maximum(1 - real_output, 0))\n",
    "    fake_loss = tf.reduce_mean(tf.maximum(1 + fake_output, 0))\n",
    "    loss = real_loss + fake_loss\n",
    "    return loss / (1.0*GLOBAL_BATCH_SIZE)"
   ]
  },
  {
   "cell_type": "markdown",
   "id": "8dd54637-b716-424a-bdd1-04c1a120fbed",
   "metadata": {},
   "source": [
    "## Optimizers"
   ]
  },
  {
   "cell_type": "code",
   "execution_count": 81,
   "id": "03830825-7dd3-4de3-b88d-fc0a68e7f103",
   "metadata": {},
   "outputs": [],
   "source": [
    "with strategy.scope():\n",
    "    gen_optimizer = keras.optimizers.Adam(1e-4)\n",
    "    disc_optimizer = keras.optimizers.Adam(4e-4)"
   ]
  },
  {
   "cell_type": "markdown",
   "id": "a6da40c6-64fa-4398-8a26-5a23bb48aa2a",
   "metadata": {},
   "source": [
    "## Training\n",
    "\n",
    "It's worth noting that the generator conditions currently randomly samples points regardless of the given noise input. This causes generated preview digits to be inconsistant."
   ]
  },
  {
   "cell_type": "code",
   "execution_count": 82,
   "id": "f8c456da-80dd-490f-b119-a1b2a9524f2b",
   "metadata": {},
   "outputs": [],
   "source": [
    "# @tf.function()\n",
    "def train_step(pointclouds, k):\n",
    "    for i in range(k):\n",
    "        # batch noise\n",
    "        noise = tf.random.normal((tf.shape(pointclouds)[0], LATENT_DIM))\n",
    "\n",
    "        with tf.GradientTape() as disc_tape:\n",
    "            gen_pointclouds = generator(noise)\n",
    "\n",
    "            # Evaluate a batch of real and fake images against the discriminator\n",
    "            real_output = discriminator(pointclouds, training=True)\n",
    "            fake_output = discriminator(gen_pointclouds, training=True)\n",
    "            \n",
    "            disc_loss = discriminator_loss(real_output, fake_output)\n",
    "\n",
    "        disc_grads = disc_tape.gradient(disc_loss, discriminator.trainable_variables)\n",
    "        disc_optimizer.apply_gradients(zip(disc_grads, discriminator.trainable_variables))    \n",
    "        \n",
    "    # batch noise\n",
    "    noise = tf.random.normal((2*tf.shape(pointclouds)[0], LATENT_DIM))\n",
    "    \n",
    "    discriminator.trainable = False\n",
    "    with tf.GradientTape() as gen_tape:\n",
    "        fake_output = model(noise, training=True)\n",
    "        gen_loss = generator_loss(fake_output)\n",
    "    gen_grads = gen_tape.gradient(gen_loss, generator.trainable_variables)\n",
    "    gen_optimizer.apply_gradients(zip(gen_grads, generator.trainable_weights))\n",
    "    discriminator.trainable = True\n",
    "    \n",
    "    return disc_loss, gen_loss\n",
    "    \n",
    "@tf.function()\n",
    "def distributed_train_step(pointclouds, k):\n",
    "    per_replica_losses = strategy.run(train_step, args=(pointclouds, k))\n",
    "    return strategy.reduce(tf.distribute.ReduceOp.SUM, per_replica_losses, axis=None)"
   ]
  },
  {
   "cell_type": "code",
   "execution_count": 83,
   "id": "ca9cd694-9f63-45d5-8c37-9f4b4c55ca93",
   "metadata": {},
   "outputs": [],
   "source": [
    "# Used to preview during training\n",
    "test_noise = tf.random.normal((4*6, LATENT_DIM))\n",
    "disc_losses = []\n",
    "gen_losses = []\n",
    "epoch = 0\n",
    "k = 3"
   ]
  },
  {
   "cell_type": "code",
   "execution_count": 84,
   "id": "67041c9c-692d-4d06-ad78-b365f28d71d2",
   "metadata": {},
   "outputs": [
    {
     "name": "stdout",
     "output_type": "stream",
     "text": [
      "Epoch 12 completed in 113.06 seconds. Generator loss: 0.024727338925004005; Discriminator loss: 0.024727338925004005\r"
     ]
    },
    {
     "data": {
      "image/png": "[encoded data removed]",
      "text/plain": [
       "<Figure size 720x432 with 24 Axes>"
      ]
     },
     "metadata": {},
     "output_type": "display_data"
    },
    {
     "name": "stdout",
     "output_type": "stream",
     "text": [
      "Epoch: 13; Batch: 530/1875"
     ]
    },
    {
     "ename": "KeyboardInterrupt",
     "evalue": "",
     "output_type": "error",
     "traceback": [
      "\u001b[0;31m---------------------------------------------------------------------------\u001b[0m",
      "\u001b[0;31mKeyboardInterrupt\u001b[0m                         Traceback (most recent call last)",
      "\u001b[0;32m<ipython-input-84-f0dc41d57e1d>\u001b[0m in \u001b[0;36m<module>\u001b[0;34m\u001b[0m\n\u001b[1;32m     28\u001b[0m         \u001b[0;32mfor\u001b[0m \u001b[0mi\u001b[0m \u001b[0;32min\u001b[0m \u001b[0mrange\u001b[0m\u001b[0;34m(\u001b[0m\u001b[0mnum_batches\u001b[0m\u001b[0;34m)\u001b[0m\u001b[0;34m:\u001b[0m\u001b[0;34m\u001b[0m\u001b[0;34m\u001b[0m\u001b[0m\n\u001b[1;32m     29\u001b[0m             \u001b[0mbatch\u001b[0m \u001b[0;34m=\u001b[0m \u001b[0mnext\u001b[0m\u001b[0;34m(\u001b[0m\u001b[0mdata_iterator\u001b[0m\u001b[0;34m)\u001b[0m\u001b[0;34m[\u001b[0m\u001b[0;36m0\u001b[0m\u001b[0;34m]\u001b[0m\u001b[0;34m\u001b[0m\u001b[0;34m\u001b[0m\u001b[0m\n\u001b[0;32m---> 30\u001b[0;31m             \u001b[0mlosses\u001b[0m \u001b[0;34m=\u001b[0m \u001b[0mdistributed_train_step\u001b[0m\u001b[0;34m(\u001b[0m\u001b[0mbatch\u001b[0m\u001b[0;34m,\u001b[0m \u001b[0mk\u001b[0m\u001b[0;34m)\u001b[0m\u001b[0;34m\u001b[0m\u001b[0;34m\u001b[0m\u001b[0m\n\u001b[0m\u001b[1;32m     31\u001b[0m             \u001b[0mdisc_loss\u001b[0m \u001b[0;34m+=\u001b[0m \u001b[0mlosses\u001b[0m\u001b[0;34m[\u001b[0m\u001b[0;36m0\u001b[0m\u001b[0;34m]\u001b[0m\u001b[0;34m\u001b[0m\u001b[0;34m\u001b[0m\u001b[0m\n\u001b[1;32m     32\u001b[0m             \u001b[0mgen_loss\u001b[0m \u001b[0;34m+=\u001b[0m \u001b[0mlosses\u001b[0m\u001b[0;34m[\u001b[0m\u001b[0;36m0\u001b[0m\u001b[0;34m]\u001b[0m\u001b[0;34m\u001b[0m\u001b[0;34m\u001b[0m\u001b[0m\n",
      "\u001b[0;32m/usr/lib/python3/dist-packages/tensorflow/python/eager/def_function.py\u001b[0m in \u001b[0;36m__call__\u001b[0;34m(self, *args, **kwds)\u001b[0m\n\u001b[1;32m    887\u001b[0m \u001b[0;34m\u001b[0m\u001b[0m\n\u001b[1;32m    888\u001b[0m       \u001b[0;32mwith\u001b[0m \u001b[0mOptionalXlaContext\u001b[0m\u001b[0;34m(\u001b[0m\u001b[0mself\u001b[0m\u001b[0;34m.\u001b[0m\u001b[0m_jit_compile\u001b[0m\u001b[0;34m)\u001b[0m\u001b[0;34m:\u001b[0m\u001b[0;34m\u001b[0m\u001b[0;34m\u001b[0m\u001b[0m\n\u001b[0;32m--> 889\u001b[0;31m         \u001b[0mresult\u001b[0m \u001b[0;34m=\u001b[0m \u001b[0mself\u001b[0m\u001b[0;34m.\u001b[0m\u001b[0m_call\u001b[0m\u001b[0;34m(\u001b[0m\u001b[0;34m*\u001b[0m\u001b[0margs\u001b[0m\u001b[0;34m,\u001b[0m \u001b[0;34m**\u001b[0m\u001b[0mkwds\u001b[0m\u001b[0;34m)\u001b[0m\u001b[0;34m\u001b[0m\u001b[0;34m\u001b[0m\u001b[0m\n\u001b[0m\u001b[1;32m    890\u001b[0m \u001b[0;34m\u001b[0m\u001b[0m\n\u001b[1;32m    891\u001b[0m       \u001b[0mnew_tracing_count\u001b[0m \u001b[0;34m=\u001b[0m \u001b[0mself\u001b[0m\u001b[0;34m.\u001b[0m\u001b[0mexperimental_get_tracing_count\u001b[0m\u001b[0;34m(\u001b[0m\u001b[0;34m)\u001b[0m\u001b[0;34m\u001b[0m\u001b[0;34m\u001b[0m\u001b[0m\n",
      "\u001b[0;32m/usr/lib/python3/dist-packages/tensorflow/python/eager/def_function.py\u001b[0m in \u001b[0;36m_call\u001b[0;34m(self, *args, **kwds)\u001b[0m\n\u001b[1;32m    915\u001b[0m       \u001b[0;31m# In this case we have created variables on the first call, so we run the\u001b[0m\u001b[0;34m\u001b[0m\u001b[0;34m\u001b[0m\u001b[0;34m\u001b[0m\u001b[0m\n\u001b[1;32m    916\u001b[0m       \u001b[0;31m# defunned version which is guaranteed to never create variables.\u001b[0m\u001b[0;34m\u001b[0m\u001b[0;34m\u001b[0m\u001b[0;34m\u001b[0m\u001b[0m\n\u001b[0;32m--> 917\u001b[0;31m       \u001b[0;32mreturn\u001b[0m \u001b[0mself\u001b[0m\u001b[0;34m.\u001b[0m\u001b[0m_stateless_fn\u001b[0m\u001b[0;34m(\u001b[0m\u001b[0;34m*\u001b[0m\u001b[0margs\u001b[0m\u001b[0;34m,\u001b[0m \u001b[0;34m**\u001b[0m\u001b[0mkwds\u001b[0m\u001b[0;34m)\u001b[0m  \u001b[0;31m# pylint: disable=not-callable\u001b[0m\u001b[0;34m\u001b[0m\u001b[0;34m\u001b[0m\u001b[0m\n\u001b[0m\u001b[1;32m    918\u001b[0m     \u001b[0;32melif\u001b[0m \u001b[0mself\u001b[0m\u001b[0;34m.\u001b[0m\u001b[0m_stateful_fn\u001b[0m \u001b[0;32mis\u001b[0m \u001b[0;32mnot\u001b[0m \u001b[0;32mNone\u001b[0m\u001b[0;34m:\u001b[0m\u001b[0;34m\u001b[0m\u001b[0;34m\u001b[0m\u001b[0m\n\u001b[1;32m    919\u001b[0m       \u001b[0;31m# Release the lock early so that multiple threads can perform the call\u001b[0m\u001b[0;34m\u001b[0m\u001b[0;34m\u001b[0m\u001b[0;34m\u001b[0m\u001b[0m\n",
      "\u001b[0;32m/usr/lib/python3/dist-packages/tensorflow/python/eager/function.py\u001b[0m in \u001b[0;36m__call__\u001b[0;34m(self, *args, **kwargs)\u001b[0m\n\u001b[1;32m   3021\u001b[0m       (graph_function,\n\u001b[1;32m   3022\u001b[0m        filtered_flat_args) = self._maybe_define_function(args, kwargs)\n\u001b[0;32m-> 3023\u001b[0;31m     return graph_function._call_flat(\n\u001b[0m\u001b[1;32m   3024\u001b[0m         filtered_flat_args, captured_inputs=graph_function.captured_inputs)  # pylint: disable=protected-access\n\u001b[1;32m   3025\u001b[0m \u001b[0;34m\u001b[0m\u001b[0m\n",
      "\u001b[0;32m/usr/lib/python3/dist-packages/tensorflow/python/eager/function.py\u001b[0m in \u001b[0;36m_call_flat\u001b[0;34m(self, args, captured_inputs, cancellation_manager)\u001b[0m\n\u001b[1;32m   1958\u001b[0m         and executing_eagerly):\n\u001b[1;32m   1959\u001b[0m       \u001b[0;31m# No tape is watching; skip to running the function.\u001b[0m\u001b[0;34m\u001b[0m\u001b[0;34m\u001b[0m\u001b[0;34m\u001b[0m\u001b[0m\n\u001b[0;32m-> 1960\u001b[0;31m       return self._build_call_outputs(self._inference_function.call(\n\u001b[0m\u001b[1;32m   1961\u001b[0m           ctx, args, cancellation_manager=cancellation_manager))\n\u001b[1;32m   1962\u001b[0m     forward_backward = self._select_forward_and_backward_functions(\n",
      "\u001b[0;32m/usr/lib/python3/dist-packages/tensorflow/python/eager/function.py\u001b[0m in \u001b[0;36mcall\u001b[0;34m(self, ctx, args, cancellation_manager)\u001b[0m\n\u001b[1;32m    589\u001b[0m       \u001b[0;32mwith\u001b[0m \u001b[0m_InterpolateFunctionError\u001b[0m\u001b[0;34m(\u001b[0m\u001b[0mself\u001b[0m\u001b[0;34m)\u001b[0m\u001b[0;34m:\u001b[0m\u001b[0;34m\u001b[0m\u001b[0;34m\u001b[0m\u001b[0m\n\u001b[1;32m    590\u001b[0m         \u001b[0;32mif\u001b[0m \u001b[0mcancellation_manager\u001b[0m \u001b[0;32mis\u001b[0m \u001b[0;32mNone\u001b[0m\u001b[0;34m:\u001b[0m\u001b[0;34m\u001b[0m\u001b[0;34m\u001b[0m\u001b[0m\n\u001b[0;32m--> 591\u001b[0;31m           outputs = execute.execute(\n\u001b[0m\u001b[1;32m    592\u001b[0m               \u001b[0mstr\u001b[0m\u001b[0;34m(\u001b[0m\u001b[0mself\u001b[0m\u001b[0;34m.\u001b[0m\u001b[0msignature\u001b[0m\u001b[0;34m.\u001b[0m\u001b[0mname\u001b[0m\u001b[0;34m)\u001b[0m\u001b[0;34m,\u001b[0m\u001b[0;34m\u001b[0m\u001b[0;34m\u001b[0m\u001b[0m\n\u001b[1;32m    593\u001b[0m               \u001b[0mnum_outputs\u001b[0m\u001b[0;34m=\u001b[0m\u001b[0mself\u001b[0m\u001b[0;34m.\u001b[0m\u001b[0m_num_outputs\u001b[0m\u001b[0;34m,\u001b[0m\u001b[0;34m\u001b[0m\u001b[0;34m\u001b[0m\u001b[0m\n",
      "\u001b[0;32m/usr/lib/python3/dist-packages/tensorflow/python/eager/execute.py\u001b[0m in \u001b[0;36mquick_execute\u001b[0;34m(op_name, num_outputs, inputs, attrs, ctx, name)\u001b[0m\n\u001b[1;32m     57\u001b[0m   \u001b[0;32mtry\u001b[0m\u001b[0;34m:\u001b[0m\u001b[0;34m\u001b[0m\u001b[0;34m\u001b[0m\u001b[0m\n\u001b[1;32m     58\u001b[0m     \u001b[0mctx\u001b[0m\u001b[0;34m.\u001b[0m\u001b[0mensure_initialized\u001b[0m\u001b[0;34m(\u001b[0m\u001b[0;34m)\u001b[0m\u001b[0;34m\u001b[0m\u001b[0;34m\u001b[0m\u001b[0m\n\u001b[0;32m---> 59\u001b[0;31m     tensors = pywrap_tfe.TFE_Py_Execute(ctx._handle, device_name, op_name,\n\u001b[0m\u001b[1;32m     60\u001b[0m                                         inputs, attrs, num_outputs)\n\u001b[1;32m     61\u001b[0m   \u001b[0;32mexcept\u001b[0m \u001b[0mcore\u001b[0m\u001b[0;34m.\u001b[0m\u001b[0m_NotOkStatusException\u001b[0m \u001b[0;32mas\u001b[0m \u001b[0me\u001b[0m\u001b[0;34m:\u001b[0m\u001b[0;34m\u001b[0m\u001b[0;34m\u001b[0m\u001b[0m\n",
      "\u001b[0;31mKeyboardInterrupt\u001b[0m: "
     ]
    }
   ],
   "source": [
    "# Training Loop\n",
    "with strategy.scope():\n",
    "    num_batches = int(60000 / GLOBAL_BATCH_SIZE)\n",
    "    \n",
    "    data_iterator = iter(train_dist_dataset)\n",
    "    \n",
    "    while True:\n",
    "        \n",
    "        start = time.time()\n",
    "        \n",
    "        # Display a preview\n",
    "#         if epoch % 100 == 0:\n",
    "        images = generator(test_noise)\n",
    "        plt.figure(figsize=(10,6))\n",
    "        for i, image in enumerate(images):\n",
    "            x, y = tf.transpose(image)\n",
    "            plt.subplot(4, 6, i+1)\n",
    "            plt.scatter(x, y, s=3)\n",
    "            plt.xticks([])\n",
    "            plt.yticks([])\n",
    "            plt.xlim(window)\n",
    "            plt.ylim(window)\n",
    "        plt.savefig(f\"epochs/{epoch}.png\")\n",
    "        plt.show()\n",
    "\n",
    "        disc_loss = 0\n",
    "        gen_loss = 0\n",
    "        for i in range(num_batches):\n",
    "            batch = next(data_iterator)[0]\n",
    "            losses = distributed_train_step(batch, k)\n",
    "            disc_loss += losses[0]\n",
    "            gen_loss += losses[1]\n",
    "            print(f\"\\rEpoch: {epoch+1}; Batch: {i+1}/{num_batches}\", end=\"\")\n",
    "        disc_losses.append(disc_loss / (i+1))\n",
    "        gen_losses.append(gen_loss / (i+1))\n",
    "        epoch += 1\n",
    "        \n",
    "        if epoch % 10 == 0:\n",
    "            model.save_weights(f\"gast_epoch_{epoch}.h5\")\n",
    "        \n",
    "        display.clear_output(wait=True)\n",
    "        tf.print(f\"Epoch {epoch} completed in {time.time() - start:.2f} seconds. Generator loss: {gen_losses[-1]}; Discriminator loss: {disc_losses[-1]}\", end=\"\\r\")"
   ]
  },
  {
   "cell_type": "code",
   "execution_count": null,
   "id": "627880e5-eeee-4059-925a-e055aab9a2af",
   "metadata": {},
   "outputs": [],
   "source": [
    "plt.figure(figsize=(9,6))\n",
    "for i, image in enumerate(images):\n",
    "    x, y = tf.transpose(image)\n",
    "    plt.subplot(4, 6, i+1)\n",
    "    plt.scatter(x, y, s=3)\n",
    "    plt.xticks([])\n",
    "    plt.yticks([])\n",
    "    plt.xlim(window)\n",
    "    plt.ylim(window)"
   ]
  },
  {
   "cell_type": "code",
   "execution_count": 85,
   "id": "dd70e318-5f1b-4993-90a2-ea7536a89712",
   "metadata": {},
   "outputs": [],
   "source": [
    "images = generator(test_noise)"
   ]
  },
  {
   "cell_type": "code",
   "execution_count": 86,
   "id": "b3ce4753-de0d-4fb5-9e37-ba9554eb1840",
   "metadata": {},
   "outputs": [
    {
     "data": {
      "image/png": "[encoded data removed]",
      "text/plain": [
       "<Figure size 648x432 with 24 Axes>"
      ]
     },
     "metadata": {},
     "output_type": "display_data"
    }
   ],
   "source": [
    "plt.figure(figsize=(9,6))\n",
    "for i, image in enumerate(images):\n",
    "    x, y = tf.transpose(image)\n",
    "    plt.subplot(4, 6, i+1)\n",
    "    plt.scatter(x, y, s=3)\n",
    "    plt.xticks([])\n",
    "    plt.yticks([])\n",
    "    plt.xlim(window)\n",
    "    plt.ylim(window)"
   ]
  },
  {
   "cell_type": "code",
   "execution_count": null,
   "id": "cd9c07a1-c898-4d32-8b3f-1e6046e9b78f",
   "metadata": {},
   "outputs": [],
   "source": []
  }
 ],
 "metadata": {
  "kernelspec": {
   "display_name": "Python 3 (λ)",
   "language": "python",
   "name": "lambda-stack"
  },
  "language_info": {
   "codemirror_mode": {
    "name": "ipython",
    "version": 3
   },
   "file_extension": ".py",
   "mimetype": "text/x-python",
   "name": "python",
   "nbconvert_exporter": "python",
   "pygments_lexer": "ipython3",
   "version": "3.8.10"
  }
 },
 "nbformat": 4,
 "nbformat_minor": 5
}
